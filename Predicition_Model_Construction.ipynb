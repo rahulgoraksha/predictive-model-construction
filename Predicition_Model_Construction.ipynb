{
  "nbformat": 4,
  "nbformat_minor": 0,
  "metadata": {
    "colab": {
      "provenance": []
    },
    "kernelspec": {
      "name": "python3",
      "display_name": "Python 3"
    },
    "language_info": {
      "name": "python"
    }
  },
  "cells": [
    {
      "cell_type": "code",
      "execution_count": 4,
      "metadata": {
        "colab": {
          "base_uri": "https://localhost:8080/"
        },
        "id": "yf7JQY5fq0v0",
        "outputId": "bb5ce38e-6d9d-4ad2-c972-2c07590b0bbb"
      },
      "outputs": [
        {
          "output_type": "stream",
          "name": "stdout",
          "text": [
            "                                 ID  Column0  Column1  Column2   Column3  \\\n",
            "0  982273a473c6b975daba8969983e4d1d      0.0     1902     6897       NaN   \n",
            "1  1adcc94821b675c9bff2140936920465      0.0     2495     3876  0.678139   \n",
            "2  d329b1c3ae56df6ca255f4e690879eb8      0.0      441     1970  0.678139   \n",
            "3  1fa819006a76a06625f63d0acd6ee3d7      0.0     1307      116  0.001462   \n",
            "4  ce3ff871e4f9a8bca9f05a420d575aa1      0.0     1559     2501  0.678139   \n",
            "\n",
            "    Column4   Column5   Column6   Column7   Column8  ...  Column12  Column13  \\\n",
            "0       NaN       NaN -0.407939 -0.015607 -0.774979  ...         0         0   \n",
            "1  0.701403 -0.007468 -0.371375 -0.015606  0.488362  ...         0         0   \n",
            "2 -0.577162 -0.007469 -0.407939 -0.015607 -0.774979  ...         1         1   \n",
            "3  0.062121 -0.007469 -0.407939 -0.015607 -0.774979  ...         1         1   \n",
            "4  0.701403 -0.007468 -0.407939 -0.015607 -0.050910  ...         1         0   \n",
            "\n",
            "   Column14  Column15  Column16  Column17  Column18  Column19  Column20  \\\n",
            "0       NaN   0.00339         0         0         0         0         0   \n",
            "1  0.001351   0.00339         0         0         0         0         0   \n",
            "2  0.001351   0.00339         0         0         0         0         0   \n",
            "3       NaN   0.00339         0         0         0         0         0   \n",
            "4  0.001350   0.00339         0         0         0         0         0   \n",
            "\n",
            "   Column21  \n",
            "0         0  \n",
            "1         0  \n",
            "2         0  \n",
            "3         0  \n",
            "4         0  \n",
            "\n",
            "[5 rows x 23 columns]\n",
            "                                 ID  target\n",
            "0  982273a473c6b975daba8969983e4d1d       0\n",
            "1  1adcc94821b675c9bff2140936920465       0\n",
            "2  d329b1c3ae56df6ca255f4e690879eb8       0\n",
            "3  1fa819006a76a06625f63d0acd6ee3d7       0\n",
            "4  ce3ff871e4f9a8bca9f05a420d575aa1       0\n"
          ]
        }
      ],
      "source": [
        "import pandas as pd\n",
        "\n",
        "# Load data from Excel files\n",
        "X = pd.read_excel('X.xlsx')\n",
        "Y = pd.read_excel('Y.xlsx')\n",
        "\n",
        "# Display the first few rows to understand the structure\n",
        "print(X.head())\n",
        "print(Y.head())"
      ]
    },
    {
      "cell_type": "code",
      "source": [
        "# Drop the ID columns\n",
        "X = X.drop(columns=['ID'])\n",
        "Y = Y.drop(columns=['ID'])\n",
        "\n",
        "# Remove rows with missing values\n",
        "X_clean = X.dropna()\n",
        "Y_clean = Y.loc[X_clean.index]"
      ],
      "metadata": {
        "id": "IovulVJLsC6o"
      },
      "execution_count": 5,
      "outputs": []
    },
    {
      "cell_type": "code",
      "source": [
        "from sklearn.model_selection import train_test_split\n",
        "\n",
        "# Split the cleaned data into training and testing sets\n",
        "X_train, X_test, Y_train, Y_test = train_test_split(X_clean, Y_clean, test_size=0.2, random_state=42)"
      ],
      "metadata": {
        "id": "h0DOyu-HsI4L"
      },
      "execution_count": 6,
      "outputs": []
    },
    {
      "cell_type": "code",
      "source": [
        "from sklearn.linear_model import LinearRegression\n",
        "\n",
        "# Initialize the model\n",
        "model = LinearRegression()\n",
        "\n",
        "# Train the model\n",
        "model.fit(X_train, Y_train)"
      ],
      "metadata": {
        "colab": {
          "base_uri": "https://localhost:8080/",
          "height": 74
        },
        "id": "2sqYs58wsMXC",
        "outputId": "0a2de667-9e19-4974-b2f1-4502224fca7a"
      },
      "execution_count": 7,
      "outputs": [
        {
          "output_type": "execute_result",
          "data": {
            "text/plain": [
              "LinearRegression()"
            ],
            "text/html": [
              "<style>#sk-container-id-1 {color: black;}#sk-container-id-1 pre{padding: 0;}#sk-container-id-1 div.sk-toggleable {background-color: white;}#sk-container-id-1 label.sk-toggleable__label {cursor: pointer;display: block;width: 100%;margin-bottom: 0;padding: 0.3em;box-sizing: border-box;text-align: center;}#sk-container-id-1 label.sk-toggleable__label-arrow:before {content: \"▸\";float: left;margin-right: 0.25em;color: #696969;}#sk-container-id-1 label.sk-toggleable__label-arrow:hover:before {color: black;}#sk-container-id-1 div.sk-estimator:hover label.sk-toggleable__label-arrow:before {color: black;}#sk-container-id-1 div.sk-toggleable__content {max-height: 0;max-width: 0;overflow: hidden;text-align: left;background-color: #f0f8ff;}#sk-container-id-1 div.sk-toggleable__content pre {margin: 0.2em;color: black;border-radius: 0.25em;background-color: #f0f8ff;}#sk-container-id-1 input.sk-toggleable__control:checked~div.sk-toggleable__content {max-height: 200px;max-width: 100%;overflow: auto;}#sk-container-id-1 input.sk-toggleable__control:checked~label.sk-toggleable__label-arrow:before {content: \"▾\";}#sk-container-id-1 div.sk-estimator input.sk-toggleable__control:checked~label.sk-toggleable__label {background-color: #d4ebff;}#sk-container-id-1 div.sk-label input.sk-toggleable__control:checked~label.sk-toggleable__label {background-color: #d4ebff;}#sk-container-id-1 input.sk-hidden--visually {border: 0;clip: rect(1px 1px 1px 1px);clip: rect(1px, 1px, 1px, 1px);height: 1px;margin: -1px;overflow: hidden;padding: 0;position: absolute;width: 1px;}#sk-container-id-1 div.sk-estimator {font-family: monospace;background-color: #f0f8ff;border: 1px dotted black;border-radius: 0.25em;box-sizing: border-box;margin-bottom: 0.5em;}#sk-container-id-1 div.sk-estimator:hover {background-color: #d4ebff;}#sk-container-id-1 div.sk-parallel-item::after {content: \"\";width: 100%;border-bottom: 1px solid gray;flex-grow: 1;}#sk-container-id-1 div.sk-label:hover label.sk-toggleable__label {background-color: #d4ebff;}#sk-container-id-1 div.sk-serial::before {content: \"\";position: absolute;border-left: 1px solid gray;box-sizing: border-box;top: 0;bottom: 0;left: 50%;z-index: 0;}#sk-container-id-1 div.sk-serial {display: flex;flex-direction: column;align-items: center;background-color: white;padding-right: 0.2em;padding-left: 0.2em;position: relative;}#sk-container-id-1 div.sk-item {position: relative;z-index: 1;}#sk-container-id-1 div.sk-parallel {display: flex;align-items: stretch;justify-content: center;background-color: white;position: relative;}#sk-container-id-1 div.sk-item::before, #sk-container-id-1 div.sk-parallel-item::before {content: \"\";position: absolute;border-left: 1px solid gray;box-sizing: border-box;top: 0;bottom: 0;left: 50%;z-index: -1;}#sk-container-id-1 div.sk-parallel-item {display: flex;flex-direction: column;z-index: 1;position: relative;background-color: white;}#sk-container-id-1 div.sk-parallel-item:first-child::after {align-self: flex-end;width: 50%;}#sk-container-id-1 div.sk-parallel-item:last-child::after {align-self: flex-start;width: 50%;}#sk-container-id-1 div.sk-parallel-item:only-child::after {width: 0;}#sk-container-id-1 div.sk-dashed-wrapped {border: 1px dashed gray;margin: 0 0.4em 0.5em 0.4em;box-sizing: border-box;padding-bottom: 0.4em;background-color: white;}#sk-container-id-1 div.sk-label label {font-family: monospace;font-weight: bold;display: inline-block;line-height: 1.2em;}#sk-container-id-1 div.sk-label-container {text-align: center;}#sk-container-id-1 div.sk-container {/* jupyter's `normalize.less` sets `[hidden] { display: none; }` but bootstrap.min.css set `[hidden] { display: none !important; }` so we also need the `!important` here to be able to override the default hidden behavior on the sphinx rendered scikit-learn.org. See: https://github.com/scikit-learn/scikit-learn/issues/21755 */display: inline-block !important;position: relative;}#sk-container-id-1 div.sk-text-repr-fallback {display: none;}</style><div id=\"sk-container-id-1\" class=\"sk-top-container\"><div class=\"sk-text-repr-fallback\"><pre>LinearRegression()</pre><b>In a Jupyter environment, please rerun this cell to show the HTML representation or trust the notebook. <br />On GitHub, the HTML representation is unable to render, please try loading this page with nbviewer.org.</b></div><div class=\"sk-container\" hidden><div class=\"sk-item\"><div class=\"sk-estimator sk-toggleable\"><input class=\"sk-toggleable__control sk-hidden--visually\" id=\"sk-estimator-id-1\" type=\"checkbox\" checked><label for=\"sk-estimator-id-1\" class=\"sk-toggleable__label sk-toggleable__label-arrow\">LinearRegression</label><div class=\"sk-toggleable__content\"><pre>LinearRegression()</pre></div></div></div></div></div>"
            ]
          },
          "metadata": {},
          "execution_count": 7
        }
      ]
    },
    {
      "cell_type": "code",
      "source": [
        "# Predict on the test data\n",
        "Y_pred_test = model.predict(X_test)"
      ],
      "metadata": {
        "id": "e1Vyga4NsNpp"
      },
      "execution_count": 8,
      "outputs": []
    },
    {
      "cell_type": "code",
      "source": [
        "from sklearn.metrics import mean_squared_error, r2_score\n",
        "\n",
        "# Calculate Mean Squared Error (MSE) and R-squared (R2) score\n",
        "mse = mean_squared_error(Y_test, Y_pred_test)\n",
        "r2 = r2_score(Y_test, Y_pred_test)\n",
        "\n",
        "print(\"Mean Squared Error:\", mse)\n",
        "print(\"R-squared Score:\", r2)"
      ],
      "metadata": {
        "colab": {
          "base_uri": "https://localhost:8080/"
        },
        "id": "9vC2Ybn6sehp",
        "outputId": "d2230450-b9e4-431f-cec4-b7bc1e233fcb"
      },
      "execution_count": 11,
      "outputs": [
        {
          "output_type": "stream",
          "name": "stdout",
          "text": [
            "Mean Squared Error: 100317.4401464785\n",
            "R-squared Score: -69419812.96895754\n"
          ]
        }
      ]
    },
    {
      "cell_type": "code",
      "source": [
        "# Display the first few predictions\n",
        "print(Y_pred_test[:5])"
      ],
      "metadata": {
        "colab": {
          "base_uri": "https://localhost:8080/"
        },
        "id": "2LSBtU0csf3S",
        "outputId": "66385c4c-b2cf-4554-b7b8-6b56aed3a092"
      },
      "execution_count": 12,
      "outputs": [
        {
          "output_type": "stream",
          "name": "stdout",
          "text": [
            "[[-0.01938776]\n",
            " [-0.00387342]\n",
            " [-0.00192692]\n",
            " [-0.00116278]\n",
            " [ 0.00327359]]\n"
          ]
        }
      ]
    }
  ]
}